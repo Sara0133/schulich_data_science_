{
 "cells": [
  {
   "cell_type": "code",
   "execution_count": 1,
   "metadata": {},
   "outputs": [],
   "source": [
    "import numpy as np\n",
    "from datetime import datetime\n",
    "import pandas as pd\n",
    "import matplotlib.pyplot as plt \n",
    "import seaborn as sns\n",
    "from sklearn.model_selection import train_test_split,cross_val_score, GridSearchCV\n",
    "from sklearn.metrics import f1_score, precision_score, precision_recall_curve, recall_score, accuracy_score, roc_auc_score, roc_curve\n",
    "from sklearn.linear_model import LogisticRegression, LinearRegression\n",
    "from sklearn.model_selection import cross_val_score\n",
    "from sklearn.pipeline import Pipeline\n",
    "from sklearn.preprocessing import OneHotEncoder, MinMaxScaler\n",
    "from sklearn.neighbors import KNeighborsClassifier\n",
    "from sklearn.compose import ColumnTransformer\n",
    "from scipy.stats.mstats import winsorize"
   ]
  },
  {
   "cell_type": "code",
   "execution_count": 2,
   "metadata": {},
   "outputs": [],
   "source": [
    "#Import the data \n",
    "# read all tables \n",
    "customer_final = pd.read_csv('https://raw.githubusercontent.com/delinai/schulich_ds1_2024/main/Datasets/customers_final.csv')\n",
    "engagement_final = pd.read_csv('https://raw.githubusercontent.com/delinai/schulich_ds1_2024/main/Datasets/engagements_final.csv')\n",
    "marketing_final = pd.read_csv('https://raw.githubusercontent.com/delinai/schulich_ds1_2024/main/Datasets/marketing_final.csv')\n",
    "transactions_final = pd.read_csv('https://raw.githubusercontent.com/delinai/schulich_ds1_2024/main/Datasets/transactions_final.csv')"
   ]
  },
  {
   "cell_type": "code",
   "execution_count": 3,
   "metadata": {},
   "outputs": [],
   "source": [
    "# deal with gender null \n",
    "# deal with age null\n",
    "customer_final.dropna(subset=['gender', 'age'], inplace=True)"
   ]
  },
  {
   "cell_type": "code",
   "execution_count": 4,
   "metadata": {},
   "outputs": [],
   "source": [
    "customer_final['join_date'] = pd.to_datetime(customer_final['join_date'])\n",
    "customer_final['last_purchase_date'] = pd.to_datetime(customer_final['last_purchase_date'])\n",
    "transactions_final['transaction_date'] = pd.to_datetime(transactions_final['transaction_date'])\n",
    "marketing_final['campaign_date'] = pd.to_datetime(marketing_final['campaign_date'])"
   ]
  },
  {
   "cell_type": "code",
   "execution_count": 5,
   "metadata": {},
   "outputs": [],
   "source": [
    "#creating CLV dataset \n",
    "clv_final = transactions_final.groupby('customer_id')['transaction_amount'].sum().reset_index()\n",
    "clv_final.rename(columns={'transaction_amount': 'clv'}, inplace=True) \n"
   ]
  },
  {
   "cell_type": "code",
   "execution_count": 6,
   "metadata": {},
   "outputs": [],
   "source": [
    "transactions_agg = transactions_final.groupby('customer_id').aggregate({'transaction_id':'count','transaction_amount':'sum'})"
   ]
  },
  {
   "cell_type": "code",
   "execution_count": 7,
   "metadata": {},
   "outputs": [],
   "source": [
    "marketing_agg = marketing_final.groupby('customer_id').size().reset_index(name='number_of_campaigns')\n",
    "marketing_agg.set_index('customer_id', inplace=True)"
   ]
  },
  {
   "cell_type": "code",
   "execution_count": 8,
   "metadata": {},
   "outputs": [],
   "source": [
    "engagement_final.set_index('customer_id', inplace=True)\n",
    "customer_final.set_index('customer_id', inplace=True)"
   ]
  },
  {
   "cell_type": "code",
   "execution_count": 9,
   "metadata": {},
   "outputs": [],
   "source": [
    "clv_final.set_index('customer_id', inplace=True)"
   ]
  },
  {
   "cell_type": "code",
   "execution_count": 10,
   "metadata": {},
   "outputs": [],
   "source": [
    "joint_dataa = customer_final.join(engagement_final).join(transactions_agg).join(marketing_agg).join(clv_final)"
   ]
  },
  {
   "cell_type": "code",
   "execution_count": 11,
   "metadata": {},
   "outputs": [],
   "source": [
    "joint_dataa['customer_lifetime'] = (joint_dataa['last_purchase_date'] - joint_dataa['join_date']).dt.days"
   ]
  },
  {
   "cell_type": "code",
   "execution_count": 12,
   "metadata": {},
   "outputs": [
    {
     "data": {
      "text/html": [
       "<div>\n",
       "<style scoped>\n",
       "    .dataframe tbody tr th:only-of-type {\n",
       "        vertical-align: middle;\n",
       "    }\n",
       "\n",
       "    .dataframe tbody tr th {\n",
       "        vertical-align: top;\n",
       "    }\n",
       "\n",
       "    .dataframe thead th {\n",
       "        text-align: right;\n",
       "    }\n",
       "</style>\n",
       "<table border=\"1\" class=\"dataframe\">\n",
       "  <thead>\n",
       "    <tr style=\"text-align: right;\">\n",
       "      <th></th>\n",
       "      <th>join_date</th>\n",
       "      <th>last_purchase_date</th>\n",
       "      <th>age</th>\n",
       "      <th>gender</th>\n",
       "      <th>location</th>\n",
       "      <th>number_of_site_visits</th>\n",
       "      <th>number_of_emails_opened</th>\n",
       "      <th>number_of_clicks</th>\n",
       "      <th>transaction_id</th>\n",
       "      <th>transaction_amount</th>\n",
       "      <th>number_of_campaigns</th>\n",
       "      <th>clv</th>\n",
       "      <th>customer_lifetime</th>\n",
       "    </tr>\n",
       "    <tr>\n",
       "      <th>customer_id</th>\n",
       "      <th></th>\n",
       "      <th></th>\n",
       "      <th></th>\n",
       "      <th></th>\n",
       "      <th></th>\n",
       "      <th></th>\n",
       "      <th></th>\n",
       "      <th></th>\n",
       "      <th></th>\n",
       "      <th></th>\n",
       "      <th></th>\n",
       "      <th></th>\n",
       "      <th></th>\n",
       "    </tr>\n",
       "  </thead>\n",
       "  <tbody>\n",
       "    <tr>\n",
       "      <th>1</th>\n",
       "      <td>2023-11-20</td>\n",
       "      <td>2024-03-17</td>\n",
       "      <td>56.0</td>\n",
       "      <td>Female</td>\n",
       "      <td>North Shannonbury</td>\n",
       "      <td>10</td>\n",
       "      <td>15</td>\n",
       "      <td>1</td>\n",
       "      <td>6</td>\n",
       "      <td>3509.48</td>\n",
       "      <td>4</td>\n",
       "      <td>3509.48</td>\n",
       "      <td>118</td>\n",
       "    </tr>\n",
       "    <tr>\n",
       "      <th>4</th>\n",
       "      <td>2022-01-01</td>\n",
       "      <td>2022-09-01</td>\n",
       "      <td>29.0</td>\n",
       "      <td>Male</td>\n",
       "      <td>Grossstad</td>\n",
       "      <td>110</td>\n",
       "      <td>30</td>\n",
       "      <td>17</td>\n",
       "      <td>20</td>\n",
       "      <td>7874.68</td>\n",
       "      <td>4</td>\n",
       "      <td>7874.68</td>\n",
       "      <td>243</td>\n",
       "    </tr>\n",
       "    <tr>\n",
       "      <th>6</th>\n",
       "      <td>2022-01-01</td>\n",
       "      <td>2023-02-10</td>\n",
       "      <td>55.0</td>\n",
       "      <td>Female</td>\n",
       "      <td>North Richardfort</td>\n",
       "      <td>74</td>\n",
       "      <td>59</td>\n",
       "      <td>7</td>\n",
       "      <td>17</td>\n",
       "      <td>10254.44</td>\n",
       "      <td>3</td>\n",
       "      <td>10254.44</td>\n",
       "      <td>405</td>\n",
       "    </tr>\n",
       "    <tr>\n",
       "      <th>8</th>\n",
       "      <td>2023-02-09</td>\n",
       "      <td>2023-08-09</td>\n",
       "      <td>68.0</td>\n",
       "      <td>Male</td>\n",
       "      <td>Marquezton</td>\n",
       "      <td>60</td>\n",
       "      <td>22</td>\n",
       "      <td>7</td>\n",
       "      <td>15</td>\n",
       "      <td>11710.62</td>\n",
       "      <td>3</td>\n",
       "      <td>11710.62</td>\n",
       "      <td>181</td>\n",
       "    </tr>\n",
       "    <tr>\n",
       "      <th>9</th>\n",
       "      <td>2022-01-24</td>\n",
       "      <td>2023-08-15</td>\n",
       "      <td>68.0</td>\n",
       "      <td>Female</td>\n",
       "      <td>West Franciscobury</td>\n",
       "      <td>49</td>\n",
       "      <td>43</td>\n",
       "      <td>21</td>\n",
       "      <td>22</td>\n",
       "      <td>10382.96</td>\n",
       "      <td>2</td>\n",
       "      <td>10382.96</td>\n",
       "      <td>568</td>\n",
       "    </tr>\n",
       "    <tr>\n",
       "      <th>...</th>\n",
       "      <td>...</td>\n",
       "      <td>...</td>\n",
       "      <td>...</td>\n",
       "      <td>...</td>\n",
       "      <td>...</td>\n",
       "      <td>...</td>\n",
       "      <td>...</td>\n",
       "      <td>...</td>\n",
       "      <td>...</td>\n",
       "      <td>...</td>\n",
       "      <td>...</td>\n",
       "      <td>...</td>\n",
       "      <td>...</td>\n",
       "    </tr>\n",
       "    <tr>\n",
       "      <th>9996</th>\n",
       "      <td>2022-12-16</td>\n",
       "      <td>2023-08-13</td>\n",
       "      <td>42.0</td>\n",
       "      <td>Female</td>\n",
       "      <td>Johnstonborough</td>\n",
       "      <td>119</td>\n",
       "      <td>47</td>\n",
       "      <td>16</td>\n",
       "      <td>10</td>\n",
       "      <td>5498.20</td>\n",
       "      <td>3</td>\n",
       "      <td>5498.20</td>\n",
       "      <td>240</td>\n",
       "    </tr>\n",
       "    <tr>\n",
       "      <th>9997</th>\n",
       "      <td>2022-07-09</td>\n",
       "      <td>2023-01-25</td>\n",
       "      <td>26.0</td>\n",
       "      <td>Male</td>\n",
       "      <td>Jessicamouth</td>\n",
       "      <td>3</td>\n",
       "      <td>33</td>\n",
       "      <td>14</td>\n",
       "      <td>12</td>\n",
       "      <td>5848.30</td>\n",
       "      <td>1</td>\n",
       "      <td>5848.30</td>\n",
       "      <td>200</td>\n",
       "    </tr>\n",
       "    <tr>\n",
       "      <th>9998</th>\n",
       "      <td>2023-09-17</td>\n",
       "      <td>2024-01-30</td>\n",
       "      <td>39.0</td>\n",
       "      <td>Male</td>\n",
       "      <td>New John</td>\n",
       "      <td>53</td>\n",
       "      <td>17</td>\n",
       "      <td>5</td>\n",
       "      <td>3</td>\n",
       "      <td>3503.13</td>\n",
       "      <td>1</td>\n",
       "      <td>3503.13</td>\n",
       "      <td>135</td>\n",
       "    </tr>\n",
       "    <tr>\n",
       "      <th>9999</th>\n",
       "      <td>2022-05-10</td>\n",
       "      <td>2022-07-15</td>\n",
       "      <td>31.0</td>\n",
       "      <td>Female</td>\n",
       "      <td>Andrewland</td>\n",
       "      <td>23</td>\n",
       "      <td>5</td>\n",
       "      <td>4</td>\n",
       "      <td>12</td>\n",
       "      <td>6721.86</td>\n",
       "      <td>2</td>\n",
       "      <td>6721.86</td>\n",
       "      <td>66</td>\n",
       "    </tr>\n",
       "    <tr>\n",
       "      <th>10000</th>\n",
       "      <td>2023-05-26</td>\n",
       "      <td>2023-09-01</td>\n",
       "      <td>67.0</td>\n",
       "      <td>Male</td>\n",
       "      <td>Hollytown</td>\n",
       "      <td>12</td>\n",
       "      <td>12</td>\n",
       "      <td>7</td>\n",
       "      <td>10</td>\n",
       "      <td>5775.83</td>\n",
       "      <td>2</td>\n",
       "      <td>5775.83</td>\n",
       "      <td>98</td>\n",
       "    </tr>\n",
       "  </tbody>\n",
       "</table>\n",
       "<p>8522 rows × 13 columns</p>\n",
       "</div>"
      ],
      "text/plain": [
       "             join_date last_purchase_date   age  gender            location  \\\n",
       "customer_id                                                                   \n",
       "1           2023-11-20         2024-03-17  56.0  Female   North Shannonbury   \n",
       "4           2022-01-01         2022-09-01  29.0    Male           Grossstad   \n",
       "6           2022-01-01         2023-02-10  55.0  Female   North Richardfort   \n",
       "8           2023-02-09         2023-08-09  68.0    Male          Marquezton   \n",
       "9           2022-01-24         2023-08-15  68.0  Female  West Franciscobury   \n",
       "...                ...                ...   ...     ...                 ...   \n",
       "9996        2022-12-16         2023-08-13  42.0  Female     Johnstonborough   \n",
       "9997        2022-07-09         2023-01-25  26.0    Male        Jessicamouth   \n",
       "9998        2023-09-17         2024-01-30  39.0    Male            New John   \n",
       "9999        2022-05-10         2022-07-15  31.0  Female          Andrewland   \n",
       "10000       2023-05-26         2023-09-01  67.0    Male           Hollytown   \n",
       "\n",
       "             number_of_site_visits  number_of_emails_opened  number_of_clicks  \\\n",
       "customer_id                                                                     \n",
       "1                               10                       15                 1   \n",
       "4                              110                       30                17   \n",
       "6                               74                       59                 7   \n",
       "8                               60                       22                 7   \n",
       "9                               49                       43                21   \n",
       "...                            ...                      ...               ...   \n",
       "9996                           119                       47                16   \n",
       "9997                             3                       33                14   \n",
       "9998                            53                       17                 5   \n",
       "9999                            23                        5                 4   \n",
       "10000                           12                       12                 7   \n",
       "\n",
       "             transaction_id  transaction_amount  number_of_campaigns  \\\n",
       "customer_id                                                            \n",
       "1                         6             3509.48                    4   \n",
       "4                        20             7874.68                    4   \n",
       "6                        17            10254.44                    3   \n",
       "8                        15            11710.62                    3   \n",
       "9                        22            10382.96                    2   \n",
       "...                     ...                 ...                  ...   \n",
       "9996                     10             5498.20                    3   \n",
       "9997                     12             5848.30                    1   \n",
       "9998                      3             3503.13                    1   \n",
       "9999                     12             6721.86                    2   \n",
       "10000                    10             5775.83                    2   \n",
       "\n",
       "                  clv  customer_lifetime  \n",
       "customer_id                               \n",
       "1             3509.48                118  \n",
       "4             7874.68                243  \n",
       "6            10254.44                405  \n",
       "8            11710.62                181  \n",
       "9            10382.96                568  \n",
       "...               ...                ...  \n",
       "9996          5498.20                240  \n",
       "9997          5848.30                200  \n",
       "9998          3503.13                135  \n",
       "9999          6721.86                 66  \n",
       "10000         5775.83                 98  \n",
       "\n",
       "[8522 rows x 13 columns]"
      ]
     },
     "execution_count": 12,
     "metadata": {},
     "output_type": "execute_result"
    }
   ],
   "source": [
    "joint_dataa"
   ]
  },
  {
   "cell_type": "markdown",
   "metadata": {},
   "source": [
    "have two colujmsn with same trans amount and clv "
   ]
  },
  {
   "cell_type": "code",
   "execution_count": 18,
   "metadata": {},
   "outputs": [],
   "source": [
    "# Normalize CLV by customer lifetime\n",
    "joint_dataa['normalized_clv'] = joint_dataa['clv'] / joint_dataa['customer_lifetime']\n",
    "\n",
    "# Winsorize  to handle zeros and extreme values\n",
    "joint_dataa['normalized_clv'] = winsorize(joint_dataa['normalized_clv'], limits=[0.01, 0.01])\n"
   ]
  },
  {
   "cell_type": "code",
   "execution_count": 19,
   "metadata": {},
   "outputs": [
    {
     "data": {
      "text/plain": [
       "0"
      ]
     },
     "execution_count": 19,
     "metadata": {},
     "output_type": "execute_result"
    }
   ],
   "source": [
    "zero_lifetime_customers = joint_dataa[joint_dataa['customer_lifetime'] == 0]\n",
    "\n",
    "# Display the count\n",
    "zero_lifetime_count = zero_lifetime_customers.shape[0]\n",
    "zero_lifetime_count"
   ]
  },
  {
   "cell_type": "code",
   "execution_count": 20,
   "metadata": {},
   "outputs": [],
   "source": [
    "# Feature selection\n",
    "features = ['age', 'gender','number_of_site_visits', 'number_of_emails_opened',\n",
    "            'number_of_clicks', 'number_of_campaigns', 'transaction_id']\n",
    "target = 'normalized_clv'\n",
    "\n"
   ]
  },
  {
   "cell_type": "code",
   "execution_count": 16,
   "metadata": {},
   "outputs": [],
   "source": [
    "# One-hot encode the 'gender' column\n",
    "joint_dataa = pd.get_dummies(joint_dataa, columns=['gender'], drop_first=True)"
   ]
  },
  {
   "cell_type": "code",
   "execution_count": 17,
   "metadata": {},
   "outputs": [],
   "source": [
    "# Convert to integer if necessary\n",
    "joint_dataa['gender_Male'] = joint_dataa['gender_Male'].astype(int)"
   ]
  },
  {
   "cell_type": "code",
   "execution_count": 21,
   "metadata": {},
   "outputs": [],
   "source": [
    "# Adjusted feature selection\n",
    "features = ['age', 'number_of_site_visits', 'number_of_emails_opened',\n",
    "            'number_of_clicks', 'number_of_campaigns', 'transaction_id', 'gender_Male']\n",
    "target = 'normalized_clv'"
   ]
  },
  {
   "cell_type": "code",
   "execution_count": 22,
   "metadata": {},
   "outputs": [],
   "source": [
    "# Scale numerical features\n",
    "scaler = MinMaxScaler()\n",
    "joint_dataa[features] = scaler.fit_transform(joint_dataa[features])"
   ]
  },
  {
   "cell_type": "code",
   "execution_count": 23,
   "metadata": {},
   "outputs": [],
   "source": [
    "# Define the feature set and the target variable\n",
    "X = joint_dataa[features]\n",
    "y = joint_dataa[target]"
   ]
  },
  {
   "cell_type": "code",
   "execution_count": 24,
   "metadata": {},
   "outputs": [],
   "source": [
    "X_train, X_test, y_train, y_test = train_test_split(X, y, test_size=0.3, random_state=42)"
   ]
  },
  {
   "cell_type": "code",
   "execution_count": 25,
   "metadata": {},
   "outputs": [
    {
     "data": {
      "text/html": [
       "<style>#sk-container-id-1 {color: black;background-color: white;}#sk-container-id-1 pre{padding: 0;}#sk-container-id-1 div.sk-toggleable {background-color: white;}#sk-container-id-1 label.sk-toggleable__label {cursor: pointer;display: block;width: 100%;margin-bottom: 0;padding: 0.3em;box-sizing: border-box;text-align: center;}#sk-container-id-1 label.sk-toggleable__label-arrow:before {content: \"▸\";float: left;margin-right: 0.25em;color: #696969;}#sk-container-id-1 label.sk-toggleable__label-arrow:hover:before {color: black;}#sk-container-id-1 div.sk-estimator:hover label.sk-toggleable__label-arrow:before {color: black;}#sk-container-id-1 div.sk-toggleable__content {max-height: 0;max-width: 0;overflow: hidden;text-align: left;background-color: #f0f8ff;}#sk-container-id-1 div.sk-toggleable__content pre {margin: 0.2em;color: black;border-radius: 0.25em;background-color: #f0f8ff;}#sk-container-id-1 input.sk-toggleable__control:checked~div.sk-toggleable__content {max-height: 200px;max-width: 100%;overflow: auto;}#sk-container-id-1 input.sk-toggleable__control:checked~label.sk-toggleable__label-arrow:before {content: \"▾\";}#sk-container-id-1 div.sk-estimator input.sk-toggleable__control:checked~label.sk-toggleable__label {background-color: #d4ebff;}#sk-container-id-1 div.sk-label input.sk-toggleable__control:checked~label.sk-toggleable__label {background-color: #d4ebff;}#sk-container-id-1 input.sk-hidden--visually {border: 0;clip: rect(1px 1px 1px 1px);clip: rect(1px, 1px, 1px, 1px);height: 1px;margin: -1px;overflow: hidden;padding: 0;position: absolute;width: 1px;}#sk-container-id-1 div.sk-estimator {font-family: monospace;background-color: #f0f8ff;border: 1px dotted black;border-radius: 0.25em;box-sizing: border-box;margin-bottom: 0.5em;}#sk-container-id-1 div.sk-estimator:hover {background-color: #d4ebff;}#sk-container-id-1 div.sk-parallel-item::after {content: \"\";width: 100%;border-bottom: 1px solid gray;flex-grow: 1;}#sk-container-id-1 div.sk-label:hover label.sk-toggleable__label {background-color: #d4ebff;}#sk-container-id-1 div.sk-serial::before {content: \"\";position: absolute;border-left: 1px solid gray;box-sizing: border-box;top: 0;bottom: 0;left: 50%;z-index: 0;}#sk-container-id-1 div.sk-serial {display: flex;flex-direction: column;align-items: center;background-color: white;padding-right: 0.2em;padding-left: 0.2em;position: relative;}#sk-container-id-1 div.sk-item {position: relative;z-index: 1;}#sk-container-id-1 div.sk-parallel {display: flex;align-items: stretch;justify-content: center;background-color: white;position: relative;}#sk-container-id-1 div.sk-item::before, #sk-container-id-1 div.sk-parallel-item::before {content: \"\";position: absolute;border-left: 1px solid gray;box-sizing: border-box;top: 0;bottom: 0;left: 50%;z-index: -1;}#sk-container-id-1 div.sk-parallel-item {display: flex;flex-direction: column;z-index: 1;position: relative;background-color: white;}#sk-container-id-1 div.sk-parallel-item:first-child::after {align-self: flex-end;width: 50%;}#sk-container-id-1 div.sk-parallel-item:last-child::after {align-self: flex-start;width: 50%;}#sk-container-id-1 div.sk-parallel-item:only-child::after {width: 0;}#sk-container-id-1 div.sk-dashed-wrapped {border: 1px dashed gray;margin: 0 0.4em 0.5em 0.4em;box-sizing: border-box;padding-bottom: 0.4em;background-color: white;}#sk-container-id-1 div.sk-label label {font-family: monospace;font-weight: bold;display: inline-block;line-height: 1.2em;}#sk-container-id-1 div.sk-label-container {text-align: center;}#sk-container-id-1 div.sk-container {/* jupyter's `normalize.less` sets `[hidden] { display: none; }` but bootstrap.min.css set `[hidden] { display: none !important; }` so we also need the `!important` here to be able to override the default hidden behavior on the sphinx rendered scikit-learn.org. See: https://github.com/scikit-learn/scikit-learn/issues/21755 */display: inline-block !important;position: relative;}#sk-container-id-1 div.sk-text-repr-fallback {display: none;}</style><div id=\"sk-container-id-1\" class=\"sk-top-container\"><div class=\"sk-text-repr-fallback\"><pre>LinearRegression()</pre><b>In a Jupyter environment, please rerun this cell to show the HTML representation or trust the notebook. <br />On GitHub, the HTML representation is unable to render, please try loading this page with nbviewer.org.</b></div><div class=\"sk-container\" hidden><div class=\"sk-item\"><div class=\"sk-estimator sk-toggleable\"><input class=\"sk-toggleable__control sk-hidden--visually\" id=\"sk-estimator-id-1\" type=\"checkbox\" checked><label for=\"sk-estimator-id-1\" class=\"sk-toggleable__label sk-toggleable__label-arrow\">LinearRegression</label><div class=\"sk-toggleable__content\"><pre>LinearRegression()</pre></div></div></div></div></div>"
      ],
      "text/plain": [
       "LinearRegression()"
      ]
     },
     "execution_count": 25,
     "metadata": {},
     "output_type": "execute_result"
    }
   ],
   "source": [
    "# Model selection and training\n",
    "lr_model = LinearRegression()\n",
    "lr_model.fit(X_train, y_train)"
   ]
  }
 ],
 "metadata": {
  "kernelspec": {
   "display_name": "base",
   "language": "python",
   "name": "python3"
  },
  "language_info": {
   "codemirror_mode": {
    "name": "ipython",
    "version": 3
   },
   "file_extension": ".py",
   "mimetype": "text/x-python",
   "name": "python",
   "nbconvert_exporter": "python",
   "pygments_lexer": "ipython3",
   "version": "3.11.7"
  }
 },
 "nbformat": 4,
 "nbformat_minor": 2
}
