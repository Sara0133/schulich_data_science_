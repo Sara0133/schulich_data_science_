{
 "cells": [
  {
   "cell_type": "markdown",
   "metadata": {},
   "source": [
    "# Chapter 6: Multiple Linear Regression\n",
    "\n",
    "> (c) 2019 Galit Shmueli, Peter C. Bruce, Peter Gedeck \n",
    ">\n",
    "> Code included in\n",
    ">\n",
    "> _Data Mining for Business Analytics: Concepts, Techniques, and Applications in Python_ (First Edition) \n",
    "> Galit Shmueli, Peter C. Bruce, Peter Gedeck, and Nitin R. Patel. 2019.\n",
    "\n",
    "## Import required packages"
   ]
  },
  {
   "cell_type": "code",
   "execution_count": 52,
   "metadata": {
    "execution": {
     "iopub.execute_input": "2023-04-26T18:39:56.125805Z",
     "iopub.status.busy": "2023-04-26T18:39:56.125491Z",
     "iopub.status.idle": "2023-04-26T18:39:57.160319Z",
     "shell.execute_reply": "2023-04-26T18:39:57.158673Z"
    }
   },
   "outputs": [],
   "source": [
    "from pathlib import Path\n",
    "\n",
    "import pandas as pd\n",
    "from sklearn.model_selection import train_test_split\n",
    "from sklearn.linear_model import LinearRegression, Lasso, Ridge, LassoCV, BayesianRidge\n",
    "import statsmodels.formula.api as sm\n",
    "import matplotlib.pylab as plt\n",
    "\n",
    "import dmba\n",
    "from dmba import regressionSummary, exhaustive_search\n",
    "from dmba import backward_elimination, forward_selection, stepwise_selection\n",
    "from dmba import adjusted_r2_score, AIC_score, BIC_score\n",
    "\n",
    "%matplotlib inline\n"
   ]
  },
  {
   "cell_type": "code",
   "execution_count": 53,
   "metadata": {},
   "outputs": [
    {
     "name": "stdout",
     "output_type": "stream",
     "text": [
      "Requirement already satisfied: dmba in /opt/anaconda3/lib/python3.11/site-packages (0.2.4)\n",
      "Requirement already satisfied: graphviz in /opt/anaconda3/lib/python3.11/site-packages (from dmba) (0.20.3)\n",
      "Requirement already satisfied: matplotlib in /opt/anaconda3/lib/python3.11/site-packages (from dmba) (3.8.0)\n",
      "Requirement already satisfied: numpy in /opt/anaconda3/lib/python3.11/site-packages (from dmba) (1.26.4)\n",
      "Requirement already satisfied: pandas in /opt/anaconda3/lib/python3.11/site-packages (from dmba) (2.1.4)\n",
      "Requirement already satisfied: scikit-learn in /opt/anaconda3/lib/python3.11/site-packages (from dmba) (1.2.2)\n",
      "Requirement already satisfied: scipy in /opt/anaconda3/lib/python3.11/site-packages (from dmba) (1.11.4)\n",
      "Requirement already satisfied: contourpy>=1.0.1 in /opt/anaconda3/lib/python3.11/site-packages (from matplotlib->dmba) (1.2.0)\n",
      "Requirement already satisfied: cycler>=0.10 in /opt/anaconda3/lib/python3.11/site-packages (from matplotlib->dmba) (0.11.0)\n",
      "Requirement already satisfied: fonttools>=4.22.0 in /opt/anaconda3/lib/python3.11/site-packages (from matplotlib->dmba) (4.25.0)\n",
      "Requirement already satisfied: kiwisolver>=1.0.1 in /opt/anaconda3/lib/python3.11/site-packages (from matplotlib->dmba) (1.4.4)\n",
      "Requirement already satisfied: packaging>=20.0 in /opt/anaconda3/lib/python3.11/site-packages (from matplotlib->dmba) (23.1)\n",
      "Requirement already satisfied: pillow>=6.2.0 in /opt/anaconda3/lib/python3.11/site-packages (from matplotlib->dmba) (10.2.0)\n",
      "Requirement already satisfied: pyparsing>=2.3.1 in /opt/anaconda3/lib/python3.11/site-packages (from matplotlib->dmba) (3.0.9)\n",
      "Requirement already satisfied: python-dateutil>=2.7 in /opt/anaconda3/lib/python3.11/site-packages (from matplotlib->dmba) (2.8.2)\n",
      "Requirement already satisfied: pytz>=2020.1 in /opt/anaconda3/lib/python3.11/site-packages (from pandas->dmba) (2023.3.post1)\n",
      "Requirement already satisfied: tzdata>=2022.1 in /opt/anaconda3/lib/python3.11/site-packages (from pandas->dmba) (2023.3)\n",
      "Requirement already satisfied: joblib>=1.1.1 in /opt/anaconda3/lib/python3.11/site-packages (from scikit-learn->dmba) (1.2.0)\n",
      "Requirement already satisfied: threadpoolctl>=2.0.0 in /opt/anaconda3/lib/python3.11/site-packages (from scikit-learn->dmba) (2.2.0)\n",
      "Requirement already satisfied: six>=1.5 in /opt/anaconda3/lib/python3.11/site-packages (from python-dateutil>=2.7->matplotlib->dmba) (1.16.0)\n",
      "Note: you may need to restart the kernel to use updated packages.\n"
     ]
    }
   ],
   "source": [
    "pip install dmba"
   ]
  },
  {
   "cell_type": "markdown",
   "metadata": {},
   "source": [
    "## Table 6.3"
   ]
  },
  {
   "cell_type": "code",
   "execution_count": 54,
   "metadata": {
    "execution": {
     "iopub.execute_input": "2023-04-26T18:39:57.163842Z",
     "iopub.status.busy": "2023-04-26T18:39:57.163437Z",
     "iopub.status.idle": "2023-04-26T18:39:57.191468Z",
     "shell.execute_reply": "2023-04-26T18:39:57.190527Z"
    },
    "scrolled": false
   },
   "outputs": [
    {
     "name": "stdout",
     "output_type": "stream",
     "text": [
      "intercept  9069.847844083171\n",
      "           Predictor  coefficient\n",
      "0          Age_08_04  -109.758421\n",
      "1                 KM    -0.018441\n",
      "2                 HP    37.803435\n",
      "3          Automatic   617.139156\n",
      "4              Doors   144.384691\n",
      "5      Quarterly_Tax    16.624936\n",
      "6      Mfr_Guarantee   152.904242\n",
      "7   Guarantee_Period    84.352082\n",
      "8              Airco   145.472000\n",
      "9    Automatic_airco  2997.221195\n",
      "10         CD_Player   284.677044\n",
      "11   Powered_Windows   462.393436\n",
      "12       Sport_Model   391.596482\n",
      "13           Tow_Bar  -221.049096\n",
      "14  Fuel_Type_Diesel  2160.912503\n",
      "15  Fuel_Type_Petrol  2154.276224\n",
      "\n",
      "Regression statistics\n",
      "\n",
      "                      Mean Error (ME) : -0.0000\n",
      "       Root Mean Squared Error (RMSE) : 1206.8732\n",
      "            Mean Absolute Error (MAE) : 908.3384\n",
      "          Mean Percentage Error (MPE) : -0.9840\n",
      "Mean Absolute Percentage Error (MAPE) : 8.9836\n"
     ]
    }
   ],
   "source": [
    "\n",
    "car_df = dmba.load_data('ToyotaCorolla.csv')\n",
    "\n",
    "predictors = ['Age_08_04', 'KM', 'Fuel_Type', 'HP', 'Automatic', 'Doors', 'Quarterly_Tax', 'Mfr_Guarantee', 'Guarantee_Period', 'Airco', 'Automatic_airco', 'CD_Player', 'Powered_Windows', 'Sport_Model','Tow_Bar']\n",
    "outcome = 'Price'\n",
    "\n",
    "# partition data\n",
    "X = pd.get_dummies(car_df[predictors], drop_first=True)\n",
    "y = car_df[outcome]\n",
    "train_X, valid_X, train_y, valid_y = train_test_split(X, y, test_size=0.2, random_state=1)\n",
    "\n",
    "car_lm = LinearRegression()\n",
    "car_lm.fit(train_X, train_y)\n",
    "\n",
    "# print coefficients\n",
    "print('intercept ', car_lm.intercept_)\n",
    "print(pd.DataFrame({'Predictor': X.columns, 'coefficient': car_lm.coef_}))\n",
    "\n",
    "# print performance measures\n",
    "regressionSummary(train_y, car_lm.predict(train_X))"
   ]
  },
  {
   "cell_type": "code",
   "execution_count": 55,
   "metadata": {
    "execution": {
     "iopub.execute_input": "2023-04-26T18:39:57.194897Z",
     "iopub.status.busy": "2023-04-26T18:39:57.194008Z",
     "iopub.status.idle": "2023-04-26T18:39:57.201884Z",
     "shell.execute_reply": "2023-04-26T18:39:57.200982Z"
    }
   },
   "outputs": [
    {
     "name": "stdout",
     "output_type": "stream",
     "text": [
      "adjusted r2 :  0.8855698263332518\n",
      "AIC :  19585.812410144987\n",
      "BIC :  19676.63638852882\n"
     ]
    }
   ],
   "source": [
    "pred_y = car_lm.predict(train_X)\n",
    "\n",
    "print('adjusted r2 : ', adjusted_r2_score(train_y, pred_y, car_lm))\n",
    "print('AIC : ', AIC_score(train_y, pred_y, car_lm))\n",
    "print('BIC : ', BIC_score(train_y, pred_y, car_lm))"
   ]
  },
  {
   "cell_type": "markdown",
   "metadata": {},
   "source": [
    "## Table 6.4"
   ]
  },
  {
   "cell_type": "code",
   "execution_count": 56,
   "metadata": {
    "execution": {
     "iopub.execute_input": "2023-04-26T18:39:57.204779Z",
     "iopub.status.busy": "2023-04-26T18:39:57.204231Z",
     "iopub.status.idle": "2023-04-26T18:39:57.214193Z",
     "shell.execute_reply": "2023-04-26T18:39:57.213343Z"
    }
   },
   "outputs": [
    {
     "name": "stdout",
     "output_type": "stream",
     "text": [
      "         Predicted  Actual     Residual\n",
      "509   12139.983555   10900 -1239.983555\n",
      "435   10634.749072   10895   260.250928\n",
      "321   13821.969212   10750 -3071.969212\n",
      "1055   7125.758512    6500  -625.758512\n",
      "288   11850.911653   11895    44.088347\n",
      "48    16904.277015   17950  1045.722985\n",
      "1403   7422.838756    7000  -422.838756\n",
      "952    9585.771290    8400 -1185.771290\n",
      "1097   7969.258257    7250  -719.258257\n",
      "204   11973.507460   12950   976.492540\n",
      "978    9630.746813    8745  -885.746813\n",
      "404    9667.336272    9450  -217.336272\n",
      "1338   7505.525275    7499    -6.525275\n",
      "754    9150.453002    9950   799.546998\n",
      "1189   6864.547340    8500  1635.452660\n",
      "948    7867.625863    7750  -117.625863\n",
      "1079   5372.381142    8950  3577.618858\n",
      "1108   8091.566648    8250   158.433352\n",
      "107   16377.131162   17450  1072.868838\n",
      "1065   5765.094249    6550   784.905751\n",
      "\n",
      "Regression statistics\n",
      "\n",
      "                      Mean Error (ME) : 139.5125\n",
      "       Root Mean Squared Error (RMSE) : 1217.9176\n",
      "            Mean Absolute Error (MAE) : 921.5922\n",
      "          Mean Percentage Error (MPE) : 0.4924\n",
      "Mean Absolute Percentage Error (MAPE) : 9.1091\n"
     ]
    }
   ],
   "source": [
    "# Use predict() to make predictions on a new set\n",
    "car_lm_pred = car_lm.predict(valid_X)\n",
    "\n",
    "result = pd.DataFrame({'Predicted': car_lm_pred, 'Actual': valid_y,\n",
    "                       'Residual': valid_y - car_lm_pred})\n",
    "print(result.head(20))\n",
    "\n",
    "# Compute common accuracy measures\n",
    "regressionSummary(valid_y, car_lm_pred)"
   ]
  },
  {
   "cell_type": "code",
   "execution_count": null,
   "metadata": {},
   "outputs": [],
   "source": []
  },
  {
   "cell_type": "markdown",
   "metadata": {},
   "source": [
    "## Figure 6.1\n",
    "Determine the residuals and create a histogram"
   ]
  },
  {
   "cell_type": "code",
   "execution_count": 57,
   "metadata": {
    "execution": {
     "iopub.execute_input": "2023-04-26T18:39:57.216979Z",
     "iopub.status.busy": "2023-04-26T18:39:57.216641Z",
     "iopub.status.idle": "2023-04-26T18:39:57.543314Z",
     "shell.execute_reply": "2023-04-26T18:39:57.542469Z"
    }
   },
   "outputs": [
    {
     "name": "stdout",
     "output_type": "stream",
     "text": [
      "0.8194444444444444\n"
     ]
    },
    {
     "data": {
      "image/png": "[encoded data removed]",
      "text/plain": [
       "<Figure size 640x480 with 1 Axes>"
      ]
     },
     "metadata": {},
     "output_type": "display_data"
    }
   ],
   "source": [
    "car_lm_pred = car_lm.predict(valid_X)\n",
    "all_residuals = valid_y - car_lm_pred\n",
    "\n",
    "# Determine the percentage of datapoints with a residual in [-1406, 1406] = approx. 75\\%\n",
    "print(len(all_residuals[(all_residuals > -1406) & (all_residuals < 1406)]) / len(all_residuals))\n",
    "\n",
    "ax = pd.DataFrame({'Residuals': all_residuals}).hist(bins=25)\n",
    "\n",
    "plt.tight_layout()\n",
    "plt.show()"
   ]
  },
  {
   "cell_type": "markdown",
   "metadata": {},
   "source": [
    "## Table 6.5\n",
    "Run an exhaustive search. The Fuel type column is categorical and needs to be converted into dummy variables."
   ]
  },
  {
   "cell_type": "code",
   "execution_count": 58,
   "metadata": {
    "execution": {
     "iopub.execute_input": "2023-04-26T18:39:57.546162Z",
     "iopub.status.busy": "2023-04-26T18:39:57.545576Z",
     "iopub.status.idle": "2023-04-26T18:40:04.126358Z",
     "shell.execute_reply": "2023-04-26T18:40:04.125232Z"
    }
   },
   "outputs": [
    {
     "name": "stdout",
     "output_type": "stream",
     "text": [
      "     n     r2adj           AIC  Age_08_04  Airco  Automatic  Automatic_airco  CD_Player  Doors  \\\n",
      "0    1  0.760594  20418.386406       True  False      False            False      False  False   \n",
      "1    2  0.816385  20114.800691       True  False      False             True      False  False   \n",
      "2    3  0.840086  19957.137265       True  False      False             True      False  False   \n",
      "3    4  0.850538  19880.529661       True  False      False             True      False  False   \n",
      "4    5  0.868531  19734.269639       True  False      False             True      False  False   \n",
      "5    6  0.873156  19694.156864       True  False      False             True      False  False   \n",
      "6    7  0.875677  19672.104620       True  False      False             True      False  False   \n",
      "7    8  0.877733  19653.950690       True  False      False             True      False  False   \n",
      "8    9  0.879558  19637.673936       True  False      False             True      False  False   \n",
      "9   10  0.881221  19622.706768       True  False      False             True      False  False   \n",
      "10  11  0.882553  19610.754126       True  False       True             True      False  False   \n",
      "11  12  0.883732  19600.151961       True  False       True             True      False   True   \n",
      "12  13  0.884548  19593.058056       True  False       True             True       True   True   \n",
      "13  14  0.885124  19588.308008       True  False       True             True       True   True   \n",
      "14  15  0.885415  19586.376776       True  False       True             True       True   True   \n",
      "15  16  0.885570  19585.812410       True   True       True             True       True   True   \n",
      "\n",
      "    Fuel_Type_Diesel  Fuel_Type_Petrol  Guarantee_Period     HP     KM  Mfr_Guarantee  \\\n",
      "0              False             False             False  False  False          False   \n",
      "1              False             False             False  False  False          False   \n",
      "2              False             False             False   True  False          False   \n",
      "3              False             False             False   True   True          False   \n",
      "4              False             False             False   True   True          False   \n",
      "5              False             False             False   True   True          False   \n",
      "6              False             False              True   True   True          False   \n",
      "7              False             False              True   True   True          False   \n",
      "8               True              True              True   True   True          False   \n",
      "9               True              True              True   True   True          False   \n",
      "10              True              True              True   True   True          False   \n",
      "11              True              True              True   True   True          False   \n",
      "12              True              True              True   True   True          False   \n",
      "13              True              True              True   True   True          False   \n",
      "14              True              True              True   True   True           True   \n",
      "15              True              True              True   True   True           True   \n",
      "\n",
      "    Powered_Windows  Quarterly_Tax  Sport_Model  Tow_Bar  \n",
      "0             False          False        False    False  \n",
      "1             False          False        False    False  \n",
      "2             False          False        False    False  \n",
      "3             False          False        False    False  \n",
      "4             False           True        False    False  \n",
      "5              True           True        False    False  \n",
      "6              True           True        False    False  \n",
      "7              True           True         True    False  \n",
      "8              True           True        False    False  \n",
      "9              True           True         True    False  \n",
      "10             True           True         True    False  \n",
      "11             True           True         True    False  \n",
      "12             True           True         True    False  \n",
      "13             True           True         True     True  \n",
      "14             True           True         True     True  \n",
      "15             True           True         True     True  \n"
     ]
    }
   ],
   "source": [
    "def train_model(variables):\n",
    "    model = LinearRegression()\n",
    "    model.fit(train_X[variables], train_y)\n",
    "    return model\n",
    "\n",
    "def score_model(model, variables):\n",
    "    pred_y = model.predict(train_X[variables])\n",
    "    # we negate as score is optimized to be as low as possible\n",
    "    return -adjusted_r2_score(train_y, pred_y, model)\n",
    "\n",
    "allVariables = train_X.columns\n",
    "results = exhaustive_search(allVariables, train_model, score_model)\n",
    "\n",
    "data = []\n",
    "for result in results:\n",
    "    model = result['model']\n",
    "    variables = result['variables']\n",
    "    AIC = AIC_score(train_y, model.predict(train_X[variables]), model)\n",
    "    \n",
    "    d = {'n': result['n'], 'r2adj': -result['score'], 'AIC': AIC}\n",
    "    d.update({var: var in result['variables'] for var in allVariables})\n",
    "    data.append(d)\n",
    "pd.set_option('display.width', 100)\n",
    "print(pd.DataFrame(data, columns=('n', 'r2adj', 'AIC') + tuple(sorted(allVariables))))\n",
    "pd.reset_option('display.width')"
   ]
  },
  {
   "cell_type": "markdown",
   "metadata": {},
   "source": [
    "## Table 6.6 backward elimination"
   ]
  },
  {
   "cell_type": "code",
   "execution_count": 59,
   "metadata": {
    "execution": {
     "iopub.execute_input": "2023-04-26T18:40:04.130419Z",
     "iopub.status.busy": "2023-04-26T18:40:04.129329Z",
     "iopub.status.idle": "2023-04-26T18:40:04.280954Z",
     "shell.execute_reply": "2023-04-26T18:40:04.279929Z"
    }
   },
   "outputs": [
    {
     "name": "stdout",
     "output_type": "stream",
     "text": [
      "Variables: Age_08_04, KM, HP, Automatic, Doors, Quarterly_Tax, Mfr_Guarantee, Guarantee_Period, Airco, Automatic_airco, CD_Player, Powered_Windows, Sport_Model, Tow_Bar, Fuel_Type_Diesel, Fuel_Type_Petrol\n",
      "Start: score=19585.81\n",
      "Step: score=19585.81, remove None\n",
      "['Age_08_04', 'KM', 'HP', 'Automatic', 'Doors', 'Quarterly_Tax', 'Mfr_Guarantee', 'Guarantee_Period', 'Airco', 'Automatic_airco', 'CD_Player', 'Powered_Windows', 'Sport_Model', 'Tow_Bar', 'Fuel_Type_Diesel', 'Fuel_Type_Petrol']\n"
     ]
    }
   ],
   "source": [
    "def train_model(variables):\n",
    "    model = LinearRegression()\n",
    "    model.fit(train_X[variables], train_y)\n",
    "    return model\n",
    "\n",
    "def score_model(model, variables):\n",
    "    return AIC_score(train_y, model.predict(train_X[variables]), model)\n",
    "\n",
    "best_model, best_variables = backward_elimination(train_X.columns, train_model, score_model, verbose=True)\n",
    "\n",
    "print(best_variables)"
   ]
  },
  {
   "cell_type": "code",
   "execution_count": 60,
   "metadata": {
    "execution": {
     "iopub.execute_input": "2023-04-26T18:40:04.283669Z",
     "iopub.status.busy": "2023-04-26T18:40:04.283272Z",
     "iopub.status.idle": "2023-04-26T18:40:04.289960Z",
     "shell.execute_reply": "2023-04-26T18:40:04.289266Z"
    }
   },
   "outputs": [
    {
     "name": "stdout",
     "output_type": "stream",
     "text": [
      "\n",
      "Regression statistics\n",
      "\n",
      "                      Mean Error (ME) : 139.5125\n",
      "       Root Mean Squared Error (RMSE) : 1217.9176\n",
      "            Mean Absolute Error (MAE) : 921.5922\n",
      "          Mean Percentage Error (MPE) : 0.4924\n",
      "Mean Absolute Percentage Error (MAPE) : 9.1091\n"
     ]
    }
   ],
   "source": [
    "regressionSummary(valid_y, best_model.predict(valid_X[best_variables]))"
   ]
  },
  {
   "cell_type": "markdown",
   "metadata": {},
   "source": [
    "## Table 6.7 Forward selection"
   ]
  },
  {
   "cell_type": "code",
   "execution_count": 61,
   "metadata": {
    "execution": {
     "iopub.execute_input": "2023-04-26T18:40:04.292673Z",
     "iopub.status.busy": "2023-04-26T18:40:04.291985Z",
     "iopub.status.idle": "2023-04-26T18:40:04.465700Z",
     "shell.execute_reply": "2023-04-26T18:40:04.464705Z"
    }
   },
   "outputs": [
    {
     "name": "stdout",
     "output_type": "stream",
     "text": [
      "Variables: Age_08_04, KM, HP, Automatic, Doors, Quarterly_Tax, Mfr_Guarantee, Guarantee_Period, Airco, Automatic_airco, CD_Player, Powered_Windows, Sport_Model, Tow_Bar, Fuel_Type_Diesel, Fuel_Type_Petrol\n",
      "Start: score=22058.56, constant\n",
      "Step: score=20418.39, add Age_08_04\n",
      "Step: score=20114.80, add Automatic_airco\n",
      "Step: score=19957.14, add HP\n",
      "Step: score=19880.53, add KM\n",
      "Step: score=19734.27, add Quarterly_Tax\n",
      "Step: score=19694.16, add Powered_Windows\n",
      "Step: score=19672.10, add Guarantee_Period\n",
      "Step: score=19653.95, add Sport_Model\n",
      "Step: score=19642.51, add Doors\n",
      "Step: score=19631.52, add Automatic\n",
      "Step: score=19626.59, add CD_Player\n",
      "Step: score=19621.55, add Tow_Bar\n",
      "Step: score=19618.23, add Fuel_Type_Diesel\n",
      "Step: score=19588.31, add Fuel_Type_Petrol\n",
      "Step: score=19586.38, add Mfr_Guarantee\n",
      "Step: score=19585.81, add Airco\n",
      "Step: score=19585.81, add None\n",
      "['Age_08_04', 'Automatic_airco', 'HP', 'KM', 'Quarterly_Tax', 'Powered_Windows', 'Guarantee_Period', 'Sport_Model', 'Doors', 'Automatic', 'CD_Player', 'Tow_Bar', 'Fuel_Type_Diesel', 'Fuel_Type_Petrol', 'Mfr_Guarantee', 'Airco']\n"
     ]
    }
   ],
   "source": [
    "# The initial model is the constant model - this requires special handling\n",
    "# in train_model and score_model\n",
    "def train_model(variables):\n",
    "    if len(variables) == 0:\n",
    "        return None\n",
    "    model = LinearRegression()\n",
    "    model.fit(train_X[variables], train_y)\n",
    "    return model\n",
    "\n",
    "def score_model(model, variables):\n",
    "    if len(variables) == 0:\n",
    "        return AIC_score(train_y, [train_y.mean()] * len(train_y), model, df=1)\n",
    "    return AIC_score(train_y, model.predict(train_X[variables]), model)\n",
    "\n",
    "best_model, best_variables = forward_selection(train_X.columns, train_model, score_model, verbose=True)\n",
    "\n",
    "print(best_variables)"
   ]
  },
  {
   "cell_type": "code",
   "execution_count": 62,
   "metadata": {
    "execution": {
     "iopub.execute_input": "2023-04-26T18:40:04.468505Z",
     "iopub.status.busy": "2023-04-26T18:40:04.468086Z",
     "iopub.status.idle": "2023-04-26T18:40:04.743901Z",
     "shell.execute_reply": "2023-04-26T18:40:04.742924Z"
    }
   },
   "outputs": [
    {
     "name": "stdout",
     "output_type": "stream",
     "text": [
      "Variables: Age_08_04, KM, HP, Automatic, Doors, Quarterly_Tax, Mfr_Guarantee, Guarantee_Period, Airco, Automatic_airco, CD_Player, Powered_Windows, Sport_Model, Tow_Bar, Fuel_Type_Diesel, Fuel_Type_Petrol\n",
      "Start: score=22058.56, constant\n",
      "Step: score=20418.39, add Age_08_04\n",
      "Step: score=20114.80, add Automatic_airco\n",
      "Step: score=19957.14, add HP\n",
      "Step: score=19880.53, add KM\n",
      "Step: score=19734.27, add Quarterly_Tax\n",
      "Step: score=19694.16, add Powered_Windows\n",
      "Step: score=19672.10, add Guarantee_Period\n",
      "Step: score=19653.95, add Sport_Model\n",
      "Step: score=19642.51, add Doors\n",
      "Step: score=19631.52, add Automatic\n",
      "Step: score=19626.59, add CD_Player\n",
      "Step: score=19621.55, add Tow_Bar\n",
      "Step: score=19618.23, add Fuel_Type_Diesel\n",
      "Step: score=19588.31, add Fuel_Type_Petrol\n",
      "Step: score=19586.38, add Mfr_Guarantee\n",
      "Step: score=19585.81, add Airco\n",
      "Step: score=19585.81, unchanged None\n",
      "['Age_08_04', 'Automatic_airco', 'HP', 'KM', 'Quarterly_Tax', 'Powered_Windows', 'Guarantee_Period', 'Sport_Model', 'Doors', 'Automatic', 'CD_Player', 'Tow_Bar', 'Fuel_Type_Diesel', 'Fuel_Type_Petrol', 'Mfr_Guarantee', 'Airco']\n"
     ]
    }
   ],
   "source": [
    "best_model, best_variables = stepwise_selection(train_X.columns, train_model, score_model, verbose=True)\n",
    "\n",
    "print(best_variables)"
   ]
  },
  {
   "cell_type": "markdown",
   "metadata": {},
   "source": [
    "## Table XX regularized methods"
   ]
  },
  {
   "cell_type": "code",
   "execution_count": 63,
   "metadata": {
    "execution": {
     "iopub.execute_input": "2023-04-26T18:40:04.747221Z",
     "iopub.status.busy": "2023-04-26T18:40:04.746235Z",
     "iopub.status.idle": "2023-04-26T18:40:04.805891Z",
     "shell.execute_reply": "2023-04-26T18:40:04.804873Z"
    }
   },
   "outputs": [
    {
     "name": "stdout",
     "output_type": "stream",
     "text": [
      "\n",
      "Regression statistics\n",
      "\n",
      "                      Mean Error (ME) : 139.6699\n",
      "       Root Mean Squared Error (RMSE) : 1217.0966\n",
      "            Mean Absolute Error (MAE) : 920.8167\n",
      "          Mean Percentage Error (MPE) : 0.4866\n",
      "Mean Absolute Percentage Error (MAPE) : 9.0969\n",
      "\n",
      "Regression statistics\n",
      "\n",
      "                      Mean Error (ME) : 140.0058\n",
      "       Root Mean Squared Error (RMSE) : 1215.5313\n",
      "            Mean Absolute Error (MAE) : 919.4862\n",
      "          Mean Percentage Error (MPE) : 0.4743\n",
      "Mean Absolute Percentage Error (MAPE) : 9.0770\n",
      "Lasso-CV chosen regularization:  3.133847165702745\n",
      "[-2027.75112406  -684.1981925    556.07359425   138.0016273\n",
      "   135.42279227   650.34730691    73.24931997   234.05061493\n",
      "    72.55036354   703.18383079   114.42391201   227.40266513\n",
      "   176.54384513   -95.59843838   592.60963568   611.04671666]\n",
      "\n",
      "Regression statistics\n",
      "\n",
      "                      Mean Error (ME) : 139.5273\n",
      "       Root Mean Squared Error (RMSE) : 1217.4205\n",
      "            Mean Absolute Error (MAE) : 921.1654\n",
      "          Mean Percentage Error (MPE) : 0.4871\n",
      "Mean Absolute Percentage Error (MAPE) : 9.1016\n",
      "\n",
      "Regression statistics\n",
      "\n",
      "                      Mean Error (ME) : 139.5648\n",
      "       Root Mean Squared Error (RMSE) : 1216.3325\n",
      "            Mean Absolute Error (MAE) : 920.1607\n",
      "          Mean Percentage Error (MPE) : 0.4742\n",
      "Mean Absolute Percentage Error (MAPE) : 9.0839\n",
      "Bayesian ridge chosen regularization:  3.4632435576100202\n"
     ]
    }
   ],
   "source": [
    "from sklearn.pipeline import Pipeline\n",
    "from sklearn.preprocessing import StandardScaler\n",
    "\n",
    "lasso = Pipeline([\n",
    "    ['normalize', StandardScaler()],\n",
    "    ['model', Lasso(alpha=1)],\n",
    "])\n",
    "lasso.fit(train_X, train_y)\n",
    "regressionSummary(valid_y, lasso.predict(valid_X))\n",
    "\n",
    "lasso_cv = Pipeline([\n",
    "    ['normalize', StandardScaler()],\n",
    "    ['model', LassoCV(cv=5)],\n",
    "])\n",
    "lasso_cv.fit(train_X, train_y)\n",
    "regressionSummary(valid_y, lasso_cv.predict(valid_X))\n",
    "print('Lasso-CV chosen regularization: ', lasso_cv['model'].alpha_)\n",
    "print(lasso_cv['model'].coef_)\n",
    "\n",
    "ridge = Pipeline([\n",
    "    ['normalize', StandardScaler()],\n",
    "    ['model', Ridge(alpha=1)],\n",
    "])\n",
    "ridge.fit(train_X, train_y)\n",
    "regressionSummary(valid_y, ridge.predict(valid_X))\n",
    "\n",
    "bayesianRidge = Pipeline([\n",
    "    ['normalize', StandardScaler()],\n",
    "    ['model', BayesianRidge()],\n",
    "])\n",
    "bayesianRidge.fit(train_X, train_y)\n",
    "regressionSummary(valid_y, bayesianRidge.predict(valid_X))\n",
    "print('Bayesian ridge chosen regularization: ', \n",
    "      bayesianRidge['model'].lambda_ / bayesianRidge['model'].alpha_)"
   ]
  },
  {
   "cell_type": "code",
   "execution_count": 64,
   "metadata": {
    "execution": {
     "iopub.execute_input": "2023-04-26T18:40:04.808384Z",
     "iopub.status.busy": "2023-04-26T18:40:04.808046Z",
     "iopub.status.idle": "2023-04-26T18:40:04.819274Z",
     "shell.execute_reply": "2023-04-26T18:40:04.818309Z"
    }
   },
   "outputs": [
    {
     "name": "stdout",
     "output_type": "stream",
     "text": [
      "\n",
      "Regression statistics\n",
      "\n",
      "                      Mean Error (ME) : 139.5125\n",
      "       Root Mean Squared Error (RMSE) : 1217.9176\n",
      "            Mean Absolute Error (MAE) : 921.5922\n",
      "          Mean Percentage Error (MPE) : 0.4924\n",
      "Mean Absolute Percentage Error (MAPE) : 9.1091\n"
     ]
    }
   ],
   "source": [
    "linearRegression = Pipeline([\n",
    "    ['normalize', StandardScaler()],\n",
    "    ['model', LinearRegression()],\n",
    "])\n",
    "linearRegression.fit(train_X, train_y)\n",
    "regressionSummary(valid_y, linearRegression.predict(valid_X))"
   ]
  },
  {
   "cell_type": "code",
   "execution_count": 65,
   "metadata": {
    "execution": {
     "iopub.execute_input": "2023-04-26T18:40:04.821767Z",
     "iopub.status.busy": "2023-04-26T18:40:04.821158Z",
     "iopub.status.idle": "2023-04-26T18:40:04.831102Z",
     "shell.execute_reply": "2023-04-26T18:40:04.830322Z"
    }
   },
   "outputs": [
    {
     "data": {
      "text/html": [
       "<div>\n",
       "<style scoped>\n",
       "    .dataframe tbody tr th:only-of-type {\n",
       "        vertical-align: middle;\n",
       "    }\n",
       "\n",
       "    .dataframe tbody tr th {\n",
       "        vertical-align: top;\n",
       "    }\n",
       "\n",
       "    .dataframe thead th {\n",
       "        text-align: right;\n",
       "    }\n",
       "</style>\n",
       "<table border=\"1\" class=\"dataframe\">\n",
       "  <thead>\n",
       "    <tr style=\"text-align: right;\">\n",
       "      <th></th>\n",
       "      <th>features</th>\n",
       "      <th>linear regression</th>\n",
       "      <th>lassoCV</th>\n",
       "      <th>bayesianRidge</th>\n",
       "    </tr>\n",
       "  </thead>\n",
       "  <tbody>\n",
       "    <tr>\n",
       "      <th>0</th>\n",
       "      <td>Age_08_04</td>\n",
       "      <td>-2023.958423</td>\n",
       "      <td>-2027.751124</td>\n",
       "      <td>-2013.019192</td>\n",
       "    </tr>\n",
       "    <tr>\n",
       "      <th>1</th>\n",
       "      <td>KM</td>\n",
       "      <td>-683.846911</td>\n",
       "      <td>-684.198193</td>\n",
       "      <td>-688.562883</td>\n",
       "    </tr>\n",
       "    <tr>\n",
       "      <th>2</th>\n",
       "      <td>HP</td>\n",
       "      <td>561.039247</td>\n",
       "      <td>556.073594</td>\n",
       "      <td>558.517572</td>\n",
       "    </tr>\n",
       "    <tr>\n",
       "      <th>3</th>\n",
       "      <td>Automatic</td>\n",
       "      <td>141.594323</td>\n",
       "      <td>138.001627</td>\n",
       "      <td>140.535846</td>\n",
       "    </tr>\n",
       "    <tr>\n",
       "      <th>4</th>\n",
       "      <td>Doors</td>\n",
       "      <td>137.196511</td>\n",
       "      <td>135.422792</td>\n",
       "      <td>138.690127</td>\n",
       "    </tr>\n",
       "    <tr>\n",
       "      <th>5</th>\n",
       "      <td>Quarterly_Tax</td>\n",
       "      <td>667.652567</td>\n",
       "      <td>650.347307</td>\n",
       "      <td>657.018610</td>\n",
       "    </tr>\n",
       "    <tr>\n",
       "      <th>6</th>\n",
       "      <td>Mfr_Guarantee</td>\n",
       "      <td>75.112055</td>\n",
       "      <td>73.249320</td>\n",
       "      <td>76.516670</td>\n",
       "    </tr>\n",
       "    <tr>\n",
       "      <th>7</th>\n",
       "      <td>Guarantee_Period</td>\n",
       "      <td>239.777840</td>\n",
       "      <td>234.050615</td>\n",
       "      <td>239.370740</td>\n",
       "    </tr>\n",
       "    <tr>\n",
       "      <th>8</th>\n",
       "      <td>Airco</td>\n",
       "      <td>72.691834</td>\n",
       "      <td>72.550364</td>\n",
       "      <td>75.910283</td>\n",
       "    </tr>\n",
       "    <tr>\n",
       "      <th>9</th>\n",
       "      <td>Automatic_airco</td>\n",
       "      <td>702.630755</td>\n",
       "      <td>703.183831</td>\n",
       "      <td>703.654119</td>\n",
       "    </tr>\n",
       "    <tr>\n",
       "      <th>10</th>\n",
       "      <td>CD_Player</td>\n",
       "      <td>117.664009</td>\n",
       "      <td>114.423912</td>\n",
       "      <td>120.559261</td>\n",
       "    </tr>\n",
       "    <tr>\n",
       "      <th>11</th>\n",
       "      <td>Powered_Windows</td>\n",
       "      <td>228.525666</td>\n",
       "      <td>227.402665</td>\n",
       "      <td>228.837958</td>\n",
       "    </tr>\n",
       "    <tr>\n",
       "      <th>12</th>\n",
       "      <td>Sport_Model</td>\n",
       "      <td>178.483368</td>\n",
       "      <td>176.543845</td>\n",
       "      <td>179.959042</td>\n",
       "    </tr>\n",
       "    <tr>\n",
       "      <th>13</th>\n",
       "      <td>Tow_Bar</td>\n",
       "      <td>-98.923497</td>\n",
       "      <td>-95.598438</td>\n",
       "      <td>-99.755263</td>\n",
       "    </tr>\n",
       "    <tr>\n",
       "      <th>14</th>\n",
       "      <td>Fuel_Type_Diesel</td>\n",
       "      <td>651.274595</td>\n",
       "      <td>592.609636</td>\n",
       "      <td>617.946187</td>\n",
       "    </tr>\n",
       "    <tr>\n",
       "      <th>15</th>\n",
       "      <td>Fuel_Type_Petrol</td>\n",
       "      <td>680.364190</td>\n",
       "      <td>611.046717</td>\n",
       "      <td>636.343586</td>\n",
       "    </tr>\n",
       "  </tbody>\n",
       "</table>\n",
       "</div>"
      ],
      "text/plain": [
       "            features  linear regression      lassoCV  bayesianRidge\n",
       "0          Age_08_04       -2023.958423 -2027.751124   -2013.019192\n",
       "1                 KM        -683.846911  -684.198193    -688.562883\n",
       "2                 HP         561.039247   556.073594     558.517572\n",
       "3          Automatic         141.594323   138.001627     140.535846\n",
       "4              Doors         137.196511   135.422792     138.690127\n",
       "5      Quarterly_Tax         667.652567   650.347307     657.018610\n",
       "6      Mfr_Guarantee          75.112055    73.249320      76.516670\n",
       "7   Guarantee_Period         239.777840   234.050615     239.370740\n",
       "8              Airco          72.691834    72.550364      75.910283\n",
       "9    Automatic_airco         702.630755   703.183831     703.654119\n",
       "10         CD_Player         117.664009   114.423912     120.559261\n",
       "11   Powered_Windows         228.525666   227.402665     228.837958\n",
       "12       Sport_Model         178.483368   176.543845     179.959042\n",
       "13           Tow_Bar         -98.923497   -95.598438     -99.755263\n",
       "14  Fuel_Type_Diesel         651.274595   592.609636     617.946187\n",
       "15  Fuel_Type_Petrol         680.364190   611.046717     636.343586"
      ]
     },
     "execution_count": 65,
     "metadata": {},
     "output_type": "execute_result"
    }
   ],
   "source": [
    "pd.DataFrame({\n",
    "    'features': train_X.columns, \n",
    "    'linear regression': linearRegression['model'].coef_, \n",
    "    'lassoCV': lasso_cv['model'].coef_, \n",
    "    'bayesianRidge': bayesianRidge['model'].coef_,\n",
    "})"
   ]
  },
  {
   "cell_type": "markdown",
   "metadata": {},
   "source": [
    "## Table 6.10"
   ]
  },
  {
   "cell_type": "code",
   "execution_count": 66,
   "metadata": {
    "execution": {
     "iopub.execute_input": "2023-04-26T18:40:04.833531Z",
     "iopub.status.busy": "2023-04-26T18:40:04.833007Z",
     "iopub.status.idle": "2023-04-26T18:40:04.864371Z",
     "shell.execute_reply": "2023-04-26T18:40:04.863594Z"
    },
    "scrolled": false
   },
   "outputs": [
    {
     "name": "stdout",
     "output_type": "stream",
     "text": [
      "                            OLS Regression Results                            \n",
      "==============================================================================\n",
      "Dep. Variable:                  Price   R-squared:                       0.887\n",
      "Model:                            OLS   Adj. R-squared:                  0.886\n",
      "Method:                 Least Squares   F-statistic:                     555.8\n",
      "Date:                Wed, 22 May 2024   Prob (F-statistic):               0.00\n",
      "Time:                        21:19:00   Log-Likelihood:                -9774.9\n",
      "No. Observations:                1148   AIC:                         1.958e+04\n",
      "Df Residuals:                    1131   BIC:                         1.967e+04\n",
      "Df Model:                          16                                         \n",
      "Covariance Type:            nonrobust                                         \n",
      "============================================================================================\n",
      "                               coef    std err          t      P>|t|      [0.025      0.975]\n",
      "--------------------------------------------------------------------------------------------\n",
      "Intercept                 9069.8478    595.620     15.228      0.000    7901.204    1.02e+04\n",
      "Fuel_Type_Diesel[T.True]  2160.9125    371.898      5.811      0.000    1431.225    2890.600\n",
      "Fuel_Type_Petrol[T.True]  2154.2762    393.484      5.475      0.000    1382.236    2926.316\n",
      "Age_08_04                 -109.7584      3.090    -35.523      0.000    -115.821    -103.696\n",
      "KM                          -0.0184      0.001    -13.520      0.000      -0.021      -0.016\n",
      "HP                          37.8034      3.167     11.938      0.000      31.590      44.017\n",
      "Automatic                  617.1392    158.357      3.897      0.000     306.433     927.845\n",
      "Doors                      144.3847     39.733      3.634      0.000      66.426     222.343\n",
      "Quarterly_Tax               16.6249      1.769      9.397      0.000      13.154      20.096\n",
      "Mfr_Guarantee              152.9042     77.535      1.972      0.049       0.776     305.033\n",
      "Guarantee_Period            84.3521     13.611      6.197      0.000      57.646     111.058\n",
      "Airco                      145.4720     91.472      1.590      0.112     -34.001     324.945\n",
      "Automatic_airco           2997.2212    181.163     16.544      0.000    2641.768    3352.675\n",
      "CD_Player                  284.6770    102.833      2.768      0.006      82.912     486.442\n",
      "Powered_Windows            462.3934     88.030      5.253      0.000     289.674     635.113\n",
      "Sport_Model                391.5965     84.562      4.631      0.000     225.680     557.513\n",
      "Tow_Bar                   -221.0491     82.829     -2.669      0.008    -383.564     -58.534\n",
      "==============================================================================\n",
      "Omnibus:                      160.559   Durbin-Watson:                   1.991\n",
      "Prob(Omnibus):                  0.000   Jarque-Bera (JB):              551.333\n",
      "Skew:                           0.662   Prob(JB):                    1.90e-120\n",
      "Kurtosis:                       6.126   Cond. No.                     1.58e+06\n",
      "==============================================================================\n",
      "\n",
      "Notes:\n",
      "[1] Standard Errors assume that the covariance matrix of the errors is correctly specified.\n",
      "[2] The condition number is large, 1.58e+06. This might indicate that there are\n",
      "strong multicollinearity or other numerical problems.\n"
     ]
    }
   ],
   "source": [
    "# run a linear regression of Price on the remaining 11 predictors in the training set\n",
    "train_df = train_X.join(train_y)\n",
    "\n",
    "predictors = train_X.columns\n",
    "formula = 'Price ~ ' + ' + '.join(predictors)\n",
    "\n",
    "car_lm = sm.ols(formula=formula, data=train_df).fit()\n",
    "print(car_lm.summary())"
   ]
  },
  {
   "cell_type": "code",
   "execution_count": null,
   "metadata": {},
   "outputs": [],
   "source": []
  }
 ],
 "metadata": {
  "kernelspec": {
   "display_name": "Python 3 (ipykernel)",
   "language": "python",
   "name": "python3"
  },
  "language_info": {
   "codemirror_mode": {
    "name": "ipython",
    "version": 3
   },
   "file_extension": ".py",
   "mimetype": "text/x-python",
   "name": "python",
   "nbconvert_exporter": "python",
   "pygments_lexer": "ipython3",
   "version": "3.11.7"
  }
 },
 "nbformat": 4,
 "nbformat_minor": 2
}
