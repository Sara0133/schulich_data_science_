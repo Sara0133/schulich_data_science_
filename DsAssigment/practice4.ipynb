{
 "cells": [
  {
   "cell_type": "code",
   "execution_count": 1,
   "metadata": {},
   "outputs": [
    {
     "data": {
      "text/plain": [
       "Payment_Method\n",
       "Credit Card     613\n",
       "Direct Debit    194\n",
       "PayPal          193\n",
       "Name: count, dtype: int64"
      ]
     },
     "execution_count": 1,
     "metadata": {},
     "output_type": "execute_result"
    }
   ],
   "source": [
    "import pandas as pd\n",
    "import numpy as np\n",
    "import seaborn as sns\n",
    "import matplotlib.pyplot as plt\n",
    "df = pd.read_csv('https://raw.githubusercontent.com/delinai/schulich_ds1_2024/main/Datasets/Assignment1_StreamFlow_Subscription_Data.csv')\n",
    "df.head()\n",
    "df['Date_of_Churn'] = pd.to_datetime(df['Date_of_Churn'])\n",
    "df['Subscription_Start_Date'] = pd.to_datetime(df['Subscription_Start_Date'])\n",
    "df['tenure']= df['Date_of_Churn'] - df['Subscription_Start_Date']\n",
    "df.head()\n",
    "Gender_mapping = {\"Female\": 1, \"Male\": 2, \"Other\": 3}\n",
    "df['Gender'] = df['Gender'].map(Gender_mapping)\n",
    "df.head()\n",
    "df.Location.value_counts()\n",
    "\n",
    "\n",
    "Location_mapping = {\"West\": 1, \"North\": 2, \"Central\": 3, 'East': 4, 'South': 5}\n",
    "df['Location'] = df['Location'].map(Location_mapping)\n",
    "df.head()\n",
    "Subscription_mapping = {\"Premium\": 1, \"Standard\": 2, \"Basic\": 3}\n",
    "df['Subscription_Type'] = df['Subscription_Type'].map(Subscription_mapping)\n",
    "df.head()\n",
    "df.Payment_Method.value_counts()"
   ]
  },
  {
   "cell_type": "code",
   "execution_count": 2,
   "metadata": {},
   "outputs": [],
   "source": [
    "Payment_mapping = {\"Credit Card\": 1, \"Direct Debit\": 2, \"PayPal\": 3}\n",
    "df['Payment_Method'] = df['Payment_Method'].map(Payment_mapping)"
   ]
  },
  {
   "cell_type": "code",
   "execution_count": 3,
   "metadata": {},
   "outputs": [
    {
     "data": {
      "text/html": [
       "<div>\n",
       "<style scoped>\n",
       "    .dataframe tbody tr th:only-of-type {\n",
       "        vertical-align: middle;\n",
       "    }\n",
       "\n",
       "    .dataframe tbody tr th {\n",
       "        vertical-align: top;\n",
       "    }\n",
       "\n",
       "    .dataframe thead th {\n",
       "        text-align: right;\n",
       "    }\n",
       "</style>\n",
       "<table border=\"1\" class=\"dataframe\">\n",
       "  <thead>\n",
       "    <tr style=\"text-align: right;\">\n",
       "      <th></th>\n",
       "      <th>User_ID</th>\n",
       "      <th>Age</th>\n",
       "      <th>Gender</th>\n",
       "      <th>Location</th>\n",
       "      <th>Subscription_Start_Date</th>\n",
       "      <th>Subscription_Type</th>\n",
       "      <th>Monthly_Payment</th>\n",
       "      <th>Payment_Method</th>\n",
       "      <th>Monthly_Hours_Watched</th>\n",
       "      <th>Favorite_Genre</th>\n",
       "      <th>Devices_Used</th>\n",
       "      <th>Average_Session_Length</th>\n",
       "      <th>Content_ID</th>\n",
       "      <th>Rating_Given</th>\n",
       "      <th>Churned</th>\n",
       "      <th>Date_of_Churn</th>\n",
       "      <th>Reason_for_Churn</th>\n",
       "      <th>tenure</th>\n",
       "    </tr>\n",
       "  </thead>\n",
       "  <tbody>\n",
       "    <tr>\n",
       "      <th>0</th>\n",
       "      <td>1</td>\n",
       "      <td>56</td>\n",
       "      <td>3</td>\n",
       "      <td>3</td>\n",
       "      <td>2020-06-07 01:53:37.656934</td>\n",
       "      <td>1</td>\n",
       "      <td>19.99</td>\n",
       "      <td>1</td>\n",
       "      <td>31.513153</td>\n",
       "      <td>Action</td>\n",
       "      <td>PC</td>\n",
       "      <td>1.195762</td>\n",
       "      <td>1023</td>\n",
       "      <td>5</td>\n",
       "      <td>0</td>\n",
       "      <td>NaT</td>\n",
       "      <td>NaN</td>\n",
       "      <td>NaT</td>\n",
       "    </tr>\n",
       "    <tr>\n",
       "      <th>1</th>\n",
       "      <td>2</td>\n",
       "      <td>69</td>\n",
       "      <td>3</td>\n",
       "      <td>1</td>\n",
       "      <td>2024-02-21 01:53:37.656980</td>\n",
       "      <td>2</td>\n",
       "      <td>14.99</td>\n",
       "      <td>1</td>\n",
       "      <td>4.982277</td>\n",
       "      <td>Drama</td>\n",
       "      <td>PC</td>\n",
       "      <td>0.809002</td>\n",
       "      <td>1076</td>\n",
       "      <td>1</td>\n",
       "      <td>0</td>\n",
       "      <td>NaT</td>\n",
       "      <td>NaN</td>\n",
       "      <td>NaT</td>\n",
       "    </tr>\n",
       "    <tr>\n",
       "      <th>2</th>\n",
       "      <td>3</td>\n",
       "      <td>46</td>\n",
       "      <td>1</td>\n",
       "      <td>2</td>\n",
       "      <td>2022-10-06 01:53:37.656995</td>\n",
       "      <td>2</td>\n",
       "      <td>14.99</td>\n",
       "      <td>3</td>\n",
       "      <td>4.114953</td>\n",
       "      <td>Sci-Fi</td>\n",
       "      <td>Tablet</td>\n",
       "      <td>1.153570</td>\n",
       "      <td>1095</td>\n",
       "      <td>2</td>\n",
       "      <td>0</td>\n",
       "      <td>NaT</td>\n",
       "      <td>NaN</td>\n",
       "      <td>NaT</td>\n",
       "    </tr>\n",
       "    <tr>\n",
       "      <th>3</th>\n",
       "      <td>4</td>\n",
       "      <td>32</td>\n",
       "      <td>1</td>\n",
       "      <td>4</td>\n",
       "      <td>2022-01-04 01:53:37.657006</td>\n",
       "      <td>2</td>\n",
       "      <td>14.99</td>\n",
       "      <td>1</td>\n",
       "      <td>60.244820</td>\n",
       "      <td>Action</td>\n",
       "      <td>TV</td>\n",
       "      <td>0.609503</td>\n",
       "      <td>1003</td>\n",
       "      <td>1</td>\n",
       "      <td>0</td>\n",
       "      <td>NaT</td>\n",
       "      <td>NaN</td>\n",
       "      <td>NaT</td>\n",
       "    </tr>\n",
       "    <tr>\n",
       "      <th>4</th>\n",
       "      <td>5</td>\n",
       "      <td>60</td>\n",
       "      <td>1</td>\n",
       "      <td>2</td>\n",
       "      <td>2020-03-13 01:53:37.657017</td>\n",
       "      <td>2</td>\n",
       "      <td>14.99</td>\n",
       "      <td>1</td>\n",
       "      <td>4.711855</td>\n",
       "      <td>Sci-Fi</td>\n",
       "      <td>Mobile</td>\n",
       "      <td>0.359971</td>\n",
       "      <td>1012</td>\n",
       "      <td>4</td>\n",
       "      <td>0</td>\n",
       "      <td>NaT</td>\n",
       "      <td>NaN</td>\n",
       "      <td>NaT</td>\n",
       "    </tr>\n",
       "  </tbody>\n",
       "</table>\n",
       "</div>"
      ],
      "text/plain": [
       "   User_ID  Age  Gender  Location    Subscription_Start_Date  \\\n",
       "0        1   56       3         3 2020-06-07 01:53:37.656934   \n",
       "1        2   69       3         1 2024-02-21 01:53:37.656980   \n",
       "2        3   46       1         2 2022-10-06 01:53:37.656995   \n",
       "3        4   32       1         4 2022-01-04 01:53:37.657006   \n",
       "4        5   60       1         2 2020-03-13 01:53:37.657017   \n",
       "\n",
       "   Subscription_Type  Monthly_Payment  Payment_Method  Monthly_Hours_Watched  \\\n",
       "0                  1            19.99               1              31.513153   \n",
       "1                  2            14.99               1               4.982277   \n",
       "2                  2            14.99               3               4.114953   \n",
       "3                  2            14.99               1              60.244820   \n",
       "4                  2            14.99               1               4.711855   \n",
       "\n",
       "  Favorite_Genre Devices_Used  Average_Session_Length  Content_ID  \\\n",
       "0         Action           PC                1.195762        1023   \n",
       "1          Drama           PC                0.809002        1076   \n",
       "2         Sci-Fi       Tablet                1.153570        1095   \n",
       "3         Action           TV                0.609503        1003   \n",
       "4         Sci-Fi       Mobile                0.359971        1012   \n",
       "\n",
       "   Rating_Given  Churned Date_of_Churn Reason_for_Churn tenure  \n",
       "0             5        0           NaT              NaN    NaT  \n",
       "1             1        0           NaT              NaN    NaT  \n",
       "2             2        0           NaT              NaN    NaT  \n",
       "3             1        0           NaT              NaN    NaT  \n",
       "4             4        0           NaT              NaN    NaT  "
      ]
     },
     "execution_count": 3,
     "metadata": {},
     "output_type": "execute_result"
    }
   ],
   "source": [
    "df.head()"
   ]
  },
  {
   "cell_type": "code",
   "execution_count": null,
   "metadata": {},
   "outputs": [],
   "source": []
  },
  {
   "cell_type": "code",
   "execution_count": 4,
   "metadata": {},
   "outputs": [
    {
     "data": {
      "text/plain": [
       "Payment_Method\n",
       "1    613\n",
       "2    194\n",
       "3    193\n",
       "Name: count, dtype: int64"
      ]
     },
     "execution_count": 4,
     "metadata": {},
     "output_type": "execute_result"
    }
   ],
   "source": [
    "df.Payment_Method.value_counts()"
   ]
  },
  {
   "cell_type": "code",
   "execution_count": 5,
   "metadata": {},
   "outputs": [
    {
     "data": {
      "text/plain": [
       "Favorite_Genre\n",
       "Drama          212\n",
       "Action         205\n",
       "Comedy         203\n",
       "Sci-Fi         192\n",
       "Documentary    188\n",
       "Name: count, dtype: int64"
      ]
     },
     "execution_count": 5,
     "metadata": {},
     "output_type": "execute_result"
    }
   ],
   "source": [
    "df.Favorite_Genre.value_counts()"
   ]
  },
  {
   "cell_type": "code",
   "execution_count": 6,
   "metadata": {},
   "outputs": [],
   "source": [
    "\n",
    "Genre_mapping = {\"Drama\": 1, \"Action\": 2, \"Comedy \": 3, 'Sci-Fi': 4, 'Documentary': 5}\n",
    "df['Favorite_Genre'] = df['Favorite_Genre'].map(Genre_mapping)"
   ]
  },
  {
   "cell_type": "code",
   "execution_count": 7,
   "metadata": {},
   "outputs": [
    {
     "data": {
      "text/plain": [
       "Favorite_Genre\n",
       "1.0    212\n",
       "2.0    205\n",
       "4.0    192\n",
       "5.0    188\n",
       "Name: count, dtype: int64"
      ]
     },
     "execution_count": 7,
     "metadata": {},
     "output_type": "execute_result"
    }
   ],
   "source": [
    "df.Favorite_Genre.value_counts()"
   ]
  },
  {
   "cell_type": "code",
   "execution_count": 8,
   "metadata": {},
   "outputs": [
    {
     "data": {
      "text/plain": [
       "Devices_Used\n",
       "Mobile    408\n",
       "Tablet    217\n",
       "TV        201\n",
       "PC        174\n",
       "Name: count, dtype: int64"
      ]
     },
     "execution_count": 8,
     "metadata": {},
     "output_type": "execute_result"
    }
   ],
   "source": [
    "df.Devices_Used. value_counts()"
   ]
  },
  {
   "cell_type": "code",
   "execution_count": 10,
   "metadata": {},
   "outputs": [],
   "source": [
    "Devices_mapping = {\"Mobile\": 1, \"Tablet\": 2, \"TV\": 3, 'PC': 4}\n",
    "df['Devices_Used'] = df['Devices_Used'].map(Devices_mapping)"
   ]
  },
  {
   "cell_type": "code",
   "execution_count": 11,
   "metadata": {},
   "outputs": [
    {
     "data": {
      "text/plain": [
       "Devices_Used\n",
       "1    408\n",
       "2    217\n",
       "3    201\n",
       "4    174\n",
       "Name: count, dtype: int64"
      ]
     },
     "execution_count": 11,
     "metadata": {},
     "output_type": "execute_result"
    }
   ],
   "source": [
    "df.Devices_Used. value_counts()"
   ]
  },
  {
   "cell_type": "markdown",
   "metadata": {},
   "source": [
    "now all object data is integer"
   ]
  },
  {
   "cell_type": "code",
   "execution_count": 13,
   "metadata": {},
   "outputs": [
    {
     "data": {
      "text/plain": [
       "Reason_for_Churn\n",
       "Price increase               68\n",
       "Found better service         64\n",
       "Personal reasons             62\n",
       "Dissatisfied with content    52\n",
       "Name: count, dtype: int64"
      ]
     },
     "execution_count": 13,
     "metadata": {},
     "output_type": "execute_result"
    }
   ],
   "source": [
    "df.Reason_for_Churn.value_counts()"
   ]
  },
  {
   "cell_type": "code",
   "execution_count": 24,
   "metadata": {},
   "outputs": [],
   "source": [
    "Reason_mapping = {\"Price increase\": 1, \"Found better service\": 2, \"Personal reasons\": 3, 'Dissatisfied with content': 4}\n",
    "df['Reason_for_Churn'] = df['Reason_for_Churn'].map(Reason_mapping)\n",
    "df['Reason_for_Churn'] = df['Reason_for_Churn'].fillna(\"NaN\").map(Reason_mapping)\n",
    "\n",
    "   "
   ]
  },
  {
   "cell_type": "code",
   "execution_count": null,
   "metadata": {},
   "outputs": [],
   "source": [
    "Reason_mapping = {\"Price increase\": 1, \"Found better service\": 2, \"Personal reasons\": 3, 'Dissatisfied with content': 4}\n",
    "df['Reason_for_Churn'] = df['Reason_for_Churn'].map(Reason_mapping)\n",
    "df['Reason_for_Churn'] = df['Reason_for_Churn'].fillna(\"NaN\").map(Reason_mapping)"
   ]
  }
 ],
 "metadata": {
  "kernelspec": {
   "display_name": "base",
   "language": "python",
   "name": "python3"
  },
  "language_info": {
   "codemirror_mode": {
    "name": "ipython",
    "version": 3
   },
   "file_extension": ".py",
   "mimetype": "text/x-python",
   "name": "python",
   "nbconvert_exporter": "python",
   "pygments_lexer": "ipython3",
   "version": "3.11.7"
  }
 },
 "nbformat": 4,
 "nbformat_minor": 2
}
