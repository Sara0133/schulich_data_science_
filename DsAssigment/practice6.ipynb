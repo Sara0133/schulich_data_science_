{
 "cells": [
  {
   "cell_type": "code",
   "execution_count": 3,
   "metadata": {},
   "outputs": [],
   "source": [
    "import pandas as pd\n",
    "import numpy as np\n",
    "import seaborn as sns\n",
    "import matplotlib.pyplot as plt\n",
    "df = pd.read_csv('https://raw.githubusercontent.com/delinai/schulich_ds1_2024/main/Datasets/Assignment1_StreamFlow_Subscription_Data.csv')\n",
    "df.head()\n",
    "df['Date_of_Churn'] = pd.to_datetime(df['Date_of_Churn'])\n",
    "df['Subscription_Start_Date'] = pd.to_datetime(df['Subscription_Start_Date'])\n",
    "df['tenure']= df['Date_of_Churn'] - df['Subscription_Start_Date']\n",
    "df.head()\n",
    "Gender_mapping = {\"Female\": 1, \"Male\": 2, \"Other\": 3}\n",
    "df['Gender'] = df['Gender'].map(Gender_mapping)\n",
    "df.head()\n",
    "df.Location.value_counts()\n",
    "\n",
    "\n",
    "Location_mapping = {\"West\": 1, \"North\": 2, \"Central\": 3, 'East': 4, 'South': 5}\n",
    "df['Location'] = df['Location'].map(Location_mapping)\n",
    "df.head()\n",
    "Subscription_mapping = {\"Premium\": 1, \"Standard\": 2, \"Basic\": 3}\n",
    "df['Subscription_Type'] = df['Subscription_Type'].map(Subscription_mapping)\n",
    "df.head()\n",
    "df.Payment_Method.value_counts()\n",
    "Payment_mapping = {\"Credit Card\": 1, \"Direct Debit\": 2, \"PayPal\": 3}\n",
    "df['Payment_Method'] = df['Payment_Method'].map(Payment_mapping)\n",
    "df.head()\n",
    "\n",
    "df.Payment_Method.value_counts()\n",
    "df.Favorite_Genre.value_counts()\n",
    "\n",
    "Genre_mapping = {\"Drama\": 1, \"Action\": 2, \"Comedy \": 3, 'Sci-Fi': 4, 'Documentary': 5}\n",
    "df['Favorite_Genre'] = df['Favorite_Genre'].map(Genre_mapping)\n",
    "df.Favorite_Genre.value_counts()\n",
    "df.Devices_Used. value_counts()\n",
    "Devices_mapping = {\"Mobile\": 1, \"Tablet\": 2, \"TV\": 3, 'PC': 4}\n",
    "df['Devices_Used'] = df['Devices_Used'].map(Devices_mapping)\n",
    "df.Devices_Used. value_counts()\n",
    "\n",
    "df.Reason_for_Churn.value_counts()\n",
    "\n",
    "df['Reason_for_Churn'] = df['Reason_for_Churn'].fillna(\"unknown\").map(Reason_mapping)\n",
    "Reason_mapping = {\"Price increase\": 1, \"Found better service\": 2, \"Personal reasons\": 3, 'Dissatisfied with content': 4, \"Unknown\":5}\n",
    "df['Reason_for_Churn'] = df['Reason_for_Churn'].map(Reason_mapping)\n"
   ]
  },
  {
   "cell_type": "code",
   "execution_count": 5,
   "metadata": {},
   "outputs": [
    {
     "data": {
      "text/plain": [
       "Series([], Name: count, dtype: int64)"
      ]
     },
     "execution_count": 5,
     "metadata": {},
     "output_type": "execute_result"
    }
   ],
   "source": [
    "df.Reason_for_Churn.value_counts()"
   ]
  }
 ],
 "metadata": {
  "kernelspec": {
   "display_name": "base",
   "language": "python",
   "name": "python3"
  },
  "language_info": {
   "codemirror_mode": {
    "name": "ipython",
    "version": 3
   },
   "file_extension": ".py",
   "mimetype": "text/x-python",
   "name": "python",
   "nbconvert_exporter": "python",
   "pygments_lexer": "ipython3",
   "version": "3.11.7"
  }
 },
 "nbformat": 4,
 "nbformat_minor": 2
}
